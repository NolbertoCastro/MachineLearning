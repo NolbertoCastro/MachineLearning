{
 "cells": [
  {
   "cell_type": "code",
   "execution_count": 10,
   "id": "6d446bc7",
   "metadata": {},
   "outputs": [
    {
     "data": {
      "text/html": [
       "<div>\n",
       "<style scoped>\n",
       "    .dataframe tbody tr th:only-of-type {\n",
       "        vertical-align: middle;\n",
       "    }\n",
       "\n",
       "    .dataframe tbody tr th {\n",
       "        vertical-align: top;\n",
       "    }\n",
       "\n",
       "    .dataframe thead th {\n",
       "        text-align: right;\n",
       "    }\n",
       "</style>\n",
       "<table border=\"1\" class=\"dataframe\">\n",
       "  <thead>\n",
       "    <tr style=\"text-align: right;\">\n",
       "      <th></th>\n",
       "      <th>title</th>\n",
       "      <th>artist</th>\n",
       "      <th>top genre</th>\n",
       "      <th>year released</th>\n",
       "      <th>added</th>\n",
       "      <th>bpm</th>\n",
       "      <th>nrgy</th>\n",
       "      <th>dnce</th>\n",
       "      <th>dB</th>\n",
       "      <th>live</th>\n",
       "      <th>val</th>\n",
       "      <th>dur</th>\n",
       "      <th>acous</th>\n",
       "      <th>spch</th>\n",
       "      <th>pop</th>\n",
       "      <th>top year</th>\n",
       "      <th>artist type</th>\n",
       "    </tr>\n",
       "  </thead>\n",
       "  <tbody>\n",
       "    <tr>\n",
       "      <th>0</th>\n",
       "      <td>STARSTRUKK (feat. Katy Perry)</td>\n",
       "      <td>3OH!3</td>\n",
       "      <td>0.000000</td>\n",
       "      <td>2009.0</td>\n",
       "      <td>2022‑02‑17</td>\n",
       "      <td>140.0</td>\n",
       "      <td>81.0</td>\n",
       "      <td>61.0</td>\n",
       "      <td>-6.0</td>\n",
       "      <td>23.0</td>\n",
       "      <td>23.0</td>\n",
       "      <td>203.0</td>\n",
       "      <td>0.0</td>\n",
       "      <td>6.0</td>\n",
       "      <td>Popular</td>\n",
       "      <td>2010.0</td>\n",
       "      <td>2</td>\n",
       "    </tr>\n",
       "    <tr>\n",
       "      <th>1</th>\n",
       "      <td>My First Kiss (feat. Ke$ha)</td>\n",
       "      <td>3OH!3</td>\n",
       "      <td>0.000000</td>\n",
       "      <td>2010.0</td>\n",
       "      <td>2022‑02‑17</td>\n",
       "      <td>138.0</td>\n",
       "      <td>89.0</td>\n",
       "      <td>68.0</td>\n",
       "      <td>-4.0</td>\n",
       "      <td>36.0</td>\n",
       "      <td>83.0</td>\n",
       "      <td>192.0</td>\n",
       "      <td>1.0</td>\n",
       "      <td>8.0</td>\n",
       "      <td>Popular</td>\n",
       "      <td>2010.0</td>\n",
       "      <td>2</td>\n",
       "    </tr>\n",
       "    <tr>\n",
       "      <th>2</th>\n",
       "      <td>I Need A Dollar</td>\n",
       "      <td>Aloe Blacc</td>\n",
       "      <td>0.007634</td>\n",
       "      <td>2010.0</td>\n",
       "      <td>2022‑02‑17</td>\n",
       "      <td>95.0</td>\n",
       "      <td>48.0</td>\n",
       "      <td>84.0</td>\n",
       "      <td>-7.0</td>\n",
       "      <td>9.0</td>\n",
       "      <td>96.0</td>\n",
       "      <td>243.0</td>\n",
       "      <td>20.0</td>\n",
       "      <td>3.0</td>\n",
       "      <td>Popular</td>\n",
       "      <td>2010.0</td>\n",
       "      <td>1</td>\n",
       "    </tr>\n",
       "    <tr>\n",
       "      <th>3</th>\n",
       "      <td>Airplanes (feat. Hayley Williams of Paramore)</td>\n",
       "      <td>B.o.B</td>\n",
       "      <td>0.015267</td>\n",
       "      <td>2010.0</td>\n",
       "      <td>2022‑02‑17</td>\n",
       "      <td>93.0</td>\n",
       "      <td>87.0</td>\n",
       "      <td>66.0</td>\n",
       "      <td>-4.0</td>\n",
       "      <td>4.0</td>\n",
       "      <td>38.0</td>\n",
       "      <td>180.0</td>\n",
       "      <td>11.0</td>\n",
       "      <td>12.0</td>\n",
       "      <td>Popular</td>\n",
       "      <td>2010.0</td>\n",
       "      <td>1</td>\n",
       "    </tr>\n",
       "    <tr>\n",
       "      <th>4</th>\n",
       "      <td>Nothin' on You (feat. Bruno Mars)</td>\n",
       "      <td>B.o.B</td>\n",
       "      <td>0.015267</td>\n",
       "      <td>2010.0</td>\n",
       "      <td>2022‑02‑17</td>\n",
       "      <td>104.0</td>\n",
       "      <td>85.0</td>\n",
       "      <td>69.0</td>\n",
       "      <td>-6.0</td>\n",
       "      <td>9.0</td>\n",
       "      <td>74.0</td>\n",
       "      <td>268.0</td>\n",
       "      <td>39.0</td>\n",
       "      <td>5.0</td>\n",
       "      <td>Popular</td>\n",
       "      <td>2010.0</td>\n",
       "      <td>1</td>\n",
       "    </tr>\n",
       "  </tbody>\n",
       "</table>\n",
       "</div>"
      ],
      "text/plain": [
       "                                           title      artist  top genre  \\\n",
       "0                  STARSTRUKK (feat. Katy Perry)       3OH!3   0.000000   \n",
       "1                    My First Kiss (feat. Ke$ha)       3OH!3   0.000000   \n",
       "2                                I Need A Dollar  Aloe Blacc   0.007634   \n",
       "3  Airplanes (feat. Hayley Williams of Paramore)       B.o.B   0.015267   \n",
       "4              Nothin' on You (feat. Bruno Mars)       B.o.B   0.015267   \n",
       "\n",
       "   year released       added    bpm  nrgy  dnce   dB  live   val    dur  \\\n",
       "0         2009.0  2022‑02‑17  140.0  81.0  61.0 -6.0  23.0  23.0  203.0   \n",
       "1         2010.0  2022‑02‑17  138.0  89.0  68.0 -4.0  36.0  83.0  192.0   \n",
       "2         2010.0  2022‑02‑17   95.0  48.0  84.0 -7.0   9.0  96.0  243.0   \n",
       "3         2010.0  2022‑02‑17   93.0  87.0  66.0 -4.0   4.0  38.0  180.0   \n",
       "4         2010.0  2022‑02‑17  104.0  85.0  69.0 -6.0   9.0  74.0  268.0   \n",
       "\n",
       "   acous  spch      pop  top year  artist type  \n",
       "0    0.0   6.0  Popular    2010.0            2  \n",
       "1    1.0   8.0  Popular    2010.0            2  \n",
       "2   20.0   3.0  Popular    2010.0            1  \n",
       "3   11.0  12.0  Popular    2010.0            1  \n",
       "4   39.0   5.0  Popular    2010.0            1  "
      ]
     },
     "execution_count": 10,
     "metadata": {},
     "output_type": "execute_result"
    }
   ],
   "source": [
    "#Importamos librerias a utilizar previamente instaladas desde Phyton.\n",
    "import pandas as pd\n",
    "import numpy \n",
    "from sklearn.tree import DecisionTreeClassifier\n",
    "from sklearn.model_selection import train_test_split\n",
    "from sklearn.metrics import accuracy_score\n",
    "from sklearn.metrics import confusion_matrix\n",
    "from sklearn.preprocessing import MinMaxScaler\n",
    "\n",
    "allData = pd.read_csv(\"SpotifyTop100.csv\") #Lee el csv\n",
    "\n",
    "allData.drop_duplicates(inplace = True) #Borra valores duplicados\n",
    "\n",
    "allData.dropna(inplace = True) #Borra los valores NaN\n",
    "\n",
    "otherDF = pd.DataFrame(allData['top genre'].unique()) #Genera un df para observar las diferentes posibilidades de\n",
    "#tipos de género\n",
    "otherDF.columns = [\"genre\"] #Renombramos la columna\n",
    "\n",
    "allData['top genre'].replace(otherDF['genre'].to_numpy(),otherDF.index.values,inplace = True) #Remplazamos los valores string del género y los cambiamos por números\n",
    "allData['artist type'].replace(['Solo','Duo','Trio','Band/Group'],[1,2,3,4],inplace = True) #Cambia los valores del tipo de artista por tipo int\n",
    "allData['pop'] = round(allData['pop']/10) #Establecemos pop como escala de popularidad y asignamos un rango de valores que determinan su nivel de popularidad. \n",
    "allData['pop'].replace([0,1,2],\"Not popular\",inplace = True)\n",
    "allData['pop'].replace([3,4,5],\"Known\",inplace = True)\n",
    "allData['pop'].replace([6,7,8],\"Popular\",inplace = True)\n",
    "allData['pop'].replace([9,10],\"Very popular\",inplace = True)\n",
    " \n",
    "scaler = MinMaxScaler() #cambia la escala de las variables en el rango [0,1]\n",
    "allData['top genre'] = scaler.fit_transform(allData['top genre'].values.reshape(-1, 1)) #Transformamos ahora del -1 al valor de 1\n",
    "allData.head()\n"
   ]
  },
  {
   "cell_type": "code",
   "execution_count": 11,
   "id": "bc6cf103",
   "metadata": {},
   "outputs": [
    {
     "data": {
      "text/plain": [
       "DecisionTreeClassifier()"
      ]
     },
     "execution_count": 11,
     "metadata": {},
     "output_type": "execute_result"
    }
   ],
   "source": [
    "\n",
    "X = allData.drop(columns = ['pop','title','artist','added','live']) # Generamos nuestro df input para conocer si una canción será popular \n",
    "y = allData['pop'] # Generamos un df output para entrenar al modelo \n",
    "\n",
    "\n",
    "X_train, X_test, y_train, y_test = train_test_split(X, y, test_size = 0.2,random_state = 42) # Separamos el dataset en 80% training y 20% test\n",
    "X_train, X_test, y_train, y_test\n",
    "\n",
    "\n",
    "model = DecisionTreeClassifier()\n",
    "model.fit(X_train, y_train) #Entrenamos al modelo\n"
   ]
  },
  {
   "cell_type": "code",
   "execution_count": 12,
   "id": "9e85c77a",
   "metadata": {},
   "outputs": [
    {
     "name": "stdout",
     "output_type": "stream",
     "text": [
      "Score training: 100.0%\n",
      "Score Validation: 80.0%\n"
     ]
    }
   ],
   "source": [
    "predictions = model.predict(X_test) # Hacemos predicciones con el df de validación\n",
    "predictions_training = model.predict(X_train) #Se le agrega la información del modelo entrenado. \n",
    "score_training = accuracy_score(y_train, predictions_training)# Obtenemos la ACCURACY del modelo previamente entrenado\n",
    "score = accuracy_score(y_test, predictions) # Medimos la ACCURACY de nuestro modelo\n",
    "print(f\"Score training: {score_training*100}%\\nScore Validation: {score*100}%\")"
   ]
  },
  {
   "cell_type": "code",
   "execution_count": 13,
   "id": "a0fcf8f2",
   "metadata": {},
   "outputs": [
    {
     "name": "stdout",
     "output_type": "stream",
     "text": [
      "[[  1   7   0]\n",
      " [  5 156   6]\n",
      " [  1  21   3]]\n"
     ]
    }
   ],
   "source": [
    "#Obtenemos la matriz que determina la cantidad de canciones que se posicionaron correctamente y erróneamente \n",
    "matriz = confusion_matrix(predictions , y_test)\n",
    "print(matriz)"
   ]
  },
  {
   "cell_type": "code",
   "execution_count": 15,
   "id": "d548ec83",
   "metadata": {},
   "outputs": [
    {
     "name": "stdout",
     "output_type": "stream",
     "text": [
      "Score Validation: 92.0%\n"
     ]
    }
   ],
   "source": [
    "#Modelo de regresion lineal\n",
    "from sklearn.linear_model import Perceptron\n",
    "clf = Perceptron(tol = 1e-3, random_state = 0)\n",
    "clf.fit(X_train, y_train)\n",
    "print(f\"Score Validation: {clf.score(X_test, y_test)*100}%\")"
   ]
  }
 ],
 "metadata": {
  "interpreter": {
   "hash": "ce92394f3027bc7a669676cd4d6143a02d7d875c8c0707fafb4fead13313b119"
  },
  "kernelspec": {
   "display_name": "Python 3",
   "language": "python",
   "name": "python3"
  },
  "language_info": {
   "codemirror_mode": {
    "name": "ipython",
    "version": 3
   },
   "file_extension": ".py",
   "mimetype": "text/x-python",
   "name": "python",
   "nbconvert_exporter": "python",
   "pygments_lexer": "ipython3",
   "version": "3.8.8"
  }
 },
 "nbformat": 4,
 "nbformat_minor": 5
}
